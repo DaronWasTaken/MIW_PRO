{
  "nbformat": 4,
  "nbformat_minor": 0,
  "metadata": {
    "colab": {
      "provenance": []
    },
    "kernelspec": {
      "name": "python3",
      "display_name": "Python 3"
    },
    "language_info": {
      "name": "python"
    }
  },
  "cells": [
    {
      "cell_type": "markdown",
      "source": [
        "#1. Napisz program który automatycznie będzie wczytywał po koleji dane z plików daneXX.txt i wykonywał resztę zadań. Zaproponuj i zrealizuj podział tych danych na dane treningowe i dane testowe. "
      ],
      "metadata": {
        "id": "mQgcdp-a2l9S"
      }
    },
    {
      "cell_type": "code",
      "source": [
        "import numpy as np\n",
        "from sklearn.model_selection import train_test_split\n",
        "from google.colab import drive\n",
        "\n",
        "drive.mount('/content/drive')\n",
        "num_files = 15\n",
        "\n",
        "def load_data_and_split(file_num):\n",
        "    data = np.loadtxt(\"/content/drive/MyDrive/miw4/Dane/dane{}.txt\".format(file_num))\n",
        "    X_data = data[:, [0]]\n",
        "    y_data = data[:, [1]]\n",
        "    X_train_set, X_test_set, y_train_set, y_test_set = train_test_split(X_data, y_data, test_size=0.3, random_state=1)\n",
        "    return X_train_set, X_test_set, y_train_set, y_test_set\n"
      ],
      "metadata": {
        "id": "V-NnBzw73GF1",
        "colab": {
          "base_uri": "https://localhost:8080/"
        },
        "outputId": "4839622b-5d96-4d4e-ccfc-2bf79a539ea4"
      },
      "execution_count": null,
      "outputs": [
        {
          "output_type": "stream",
          "name": "stdout",
          "text": [
            "Drive already mounted at /content/drive; to attempt to forcibly remount, call drive.mount(\"/content/drive\", force_remount=True).\n"
          ]
        }
      ]
    },
    {
      "cell_type": "markdown",
      "source": [
        "#2. Zaproponuj liniowy model parametryczny Model 1. Określ parametry modelu stosując metodę najmniejszych kwadratów dla danych treningowych,"
      ],
      "metadata": {
        "id": "dVuhv0VG28Gq"
      }
    },
    {
      "cell_type": "code",
      "source": [
        "def fit_linear_model(X_train, y_train):\n",
        "    lin_matrix = np.hstack([X_train, np.ones(X_train.shape)])\n",
        "    lin_coefficients = np.linalg.pinv(lin_matrix) @ y_train\n",
        "    return lin_coefficients"
      ],
      "metadata": {
        "id": "B0d2J_zA3Gy-"
      },
      "execution_count": null,
      "outputs": []
    },
    {
      "cell_type": "markdown",
      "source": [
        "#3. Zweryfikuj poprawność Modelu 1,"
      ],
      "metadata": {
        "id": "2PT2v-mr3BwS"
      }
    },
    {
      "cell_type": "code",
      "source": [
        "def calculate_error(X, y, model_coefficients, model_type='linear'):\n",
        "    if model_type == 'linear':\n",
        "        y_pred = model_coefficients[0] * X + model_coefficients[1]\n",
        "    elif model_type == 'nonlinear':\n",
        "        y_pred = model_coefficients[0] * pow(X, 5) + (-2) * model_coefficients[1] * pow(X, 2) + 1\n",
        "    error = sum((y - y_pred) ** 2) / len(X)\n",
        "    return error"
      ],
      "metadata": {
        "id": "EfKwPwTu3HVU"
      },
      "execution_count": null,
      "outputs": []
    },
    {
      "cell_type": "markdown",
      "source": [
        "#4. Zaproponuj bardziej złożony, minimum 3 stopnia, model regresji nieliniowej Model 2. Określ parametry modelu stosując metodę najmniejszych kwadratów dla danych treningowych,"
      ],
      "metadata": {
        "id": "cARjWDDW3Hv1"
      }
    },
    {
      "cell_type": "code",
      "source": [
        "def fit_nonlinear_model(X_train, y_train):\n",
        "    alt_matrix = np.hstack([pow(X_train, 5), -2 * pow(X_train, 2), np.ones(X_train.shape)])\n",
        "    alt_coefficients = np.linalg.pinv(alt_matrix) @ y_train\n",
        "    return alt_coefficients"
      ],
      "metadata": {
        "id": "q_VEWgah3KkO"
      },
      "execution_count": null,
      "outputs": []
    },
    {
      "cell_type": "markdown",
      "source": [
        "#5. Zweryfikuj poprawność Modelu 2,"
      ],
      "metadata": {
        "id": "97RE5jIF3K2F"
      }
    },
    {
      "cell_type": "code",
      "source": [
        "    alt_train_error = sum((y_train_set - (alt_coefficients[0] * pow(X_train_set, 5) + (-2) * alt_coefficients[1] * pow(X_train_set, 2) + 1)) ** 2) / len(X_train_set)\n",
        "    alt_test_error = sum((y_test_set - (alt_coefficients[0] * pow(X_test_set, 5) + (-2) * alt_coefficients[1] * pow(X_test_set, 2) + 1)) ** 2) / len(X_test_set)"
      ],
      "metadata": {
        "id": "DTP3XYXi3Su1"
      },
      "execution_count": null,
      "outputs": []
    },
    {
      "cell_type": "markdown",
      "source": [
        "#6. Porównaj oba modele."
      ],
      "metadata": {
        "id": "KQrclSrw3TCF"
      }
    },
    {
      "cell_type": "code",
      "source": [
        "import matplotlib.pyplot as plt\n",
        "\n",
        "def plot_models(X_train, X_test, y_train, y_test, lin_coefficients, alt_coefficients):\n",
        "    X_data = np.concatenate([X_train, X_test])\n",
        "    lin_pred = lin_coefficients[0] * X_data + lin_coefficients[1]\n",
        "    alt_pred = alt_coefficients[0] * pow(X_data, 5) + (-2) * alt_coefficients[1] * pow(X_data, 2) + 1\n",
        "    \n",
        "    plt.plot(X_test, y_test, 'bo', label='Test Data')\n",
        "    plt.plot(X_train, y_train, 'ro', label='Train Data')\n",
        "    plt.plot(X_data, lin_pred, label='Linear Model')\n",
        "    plt.plot(X_data, alt_pred, label='Nonlinear Model')\n",
        "    plt.legend()\n",
        "    plt.show()\n",
        "\n",
        "for i in range(num_files):\n",
        "    X_train, X_test, y_train, y_test = load_data_and_split(i + 1)\n",
        "    linear_coefficients = fit_linear_model(X_train, y_train)\n",
        "    nonlinear_coefficients = fit_nonlinear_model(X_train, y_train)\n",
        "    \n",
        "    lin_train_error = calculate\n"
      ],
      "metadata": {
        "id": "eYO2c5UL3VaB",
        "colab": {
          "base_uri": "https://localhost:8080/",
          "height": 794
        },
        "outputId": "06d92384-a80e-46fe-eba2-9e23ee5933af"
      },
      "execution_count": null,
      "outputs": [
        {
          "output_type": "stream",
          "name": "stdout",
          "text": [
            "Dataset: 15\n",
            "\n",
            "Linear model: \n",
            " [[-0.06862989]\n",
            " [ 0.39791168]]\n",
            "Linear model (train): \n",
            " [0.22594381]\n",
            "Linear model (test): \n",
            " [0.30664909]\n",
            "\n",
            "\n",
            "Alternative model: \n",
            " [[-0.00112013]\n",
            " [-0.02302509]\n",
            " [ 0.26585152]]\n",
            "Alternative model (train): \n",
            " [0.73993066]\n",
            "Alternative model (test): \n",
            " [1.09327484]\n",
            "\n",
            "\n"
          ]
        },
        {
          "output_type": "display_data",
          "data": {
            "text/plain": [
              "<Figure size 640x480 with 1 Axes>"
            ],
            "image/png": "[encoded data removed]"
          },
          "metadata": {}
        }
      ]
    }
  ]
}